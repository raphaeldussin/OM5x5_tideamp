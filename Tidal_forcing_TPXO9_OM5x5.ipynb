{
 "cells": [
  {
   "cell_type": "markdown",
   "metadata": {},
   "source": [
    "# Creating the tidal amplitudes forcing (repro testing)"
   ]
  },
  {
   "cell_type": "markdown",
   "metadata": {},
   "source": [
    "To provide the tidal amplitudes array for OM4, we use the tidal velocities coming from TPXO for the following harmonics:\n",
    "\n",
    "M2, S2, N2, K2, K1, O1, P1, Q1."
   ]
  },
  {
   "cell_type": "code",
   "execution_count": 1,
   "metadata": {},
   "outputs": [],
   "source": [
    "import xarray as xr\n",
    "import cartopy.crs as ccrs\n",
    "import matplotlib.pyplot as plt\n",
    "import xesmf\n",
    "from xgcm import Grid\n",
    "import numpy as np"
   ]
  },
  {
   "cell_type": "code",
   "execution_count": 2,
   "metadata": {},
   "outputs": [],
   "source": [
    "_ = xr.set_options(display_style='text')"
   ]
  },
  {
   "cell_type": "markdown",
   "metadata": {},
   "source": [
    "Model grid file to use is:"
   ]
  },
  {
   "cell_type": "code",
   "execution_count": 3,
   "metadata": {},
   "outputs": [],
   "source": [
    "OM4gridfile = './data/ocean_static_5x5.nc'"
   ]
  },
  {
   "cell_type": "markdown",
   "metadata": {},
   "source": [
    "## Load the TPXO dataset and create a grid object"
   ]
  },
  {
   "cell_type": "markdown",
   "metadata": {},
   "source": [
    "The dataset is not given in CF-compliant format so there is a bit of dataset manipulation involved here. First let's define the harmonics we're gonna be using:"
   ]
  },
  {
   "cell_type": "code",
   "execution_count": 4,
   "metadata": {},
   "outputs": [],
   "source": [
    "harmonics = [\"m2\", \"s2\", \"n2\", \"k2\", \"k1\", \"o1\", \"p1\", \"q1\"]"
   ]
  },
  {
   "cell_type": "code",
   "execution_count": 5,
   "metadata": {},
   "outputs": [],
   "source": [
    "tpxodir = './data'"
   ]
  },
  {
   "cell_type": "code",
   "execution_count": 6,
   "metadata": {},
   "outputs": [],
   "source": [
    "tpxo_gridfile = f'{tpxodir}/grid_tides_2x2.nc'\n",
    "tpxo_files = []\n",
    "for harm in harmonics:\n",
    "    tpxo_files.append(f'{tpxodir}/u_{harm}_tides_2x2.nc')"
   ]
  },
  {
   "cell_type": "markdown",
   "metadata": {},
   "source": [
    "Open all tidal velocity files and concatenate along harmonic dimension:"
   ]
  },
  {
   "cell_type": "code",
   "execution_count": 7,
   "metadata": {},
   "outputs": [],
   "source": [
    "tpxo9 = xr.open_mfdataset(tpxo_files, concat_dim='harmonic', combine='nested')"
   ]
  },
  {
   "cell_type": "markdown",
   "metadata": {},
   "source": [
    "Longitude/Latitude do not need to be dependent on harmonics:"
   ]
  },
  {
   "cell_type": "code",
   "execution_count": 8,
   "metadata": {},
   "outputs": [],
   "source": [
    "tpxo9 = tpxo9.assign_coords({'lon_u': xr.DataArray(tpxo9['lon_u'].isel(harmonic=0), dims=['lon_u'])})\n",
    "tpxo9 = tpxo9.assign_coords({'lat_u': xr.DataArray(tpxo9['lat_u'].isel(harmonic=0), dims=['lat_u'])})\n",
    "tpxo9 = tpxo9.assign_coords({'lon_v': xr.DataArray(tpxo9['lon_v'].isel(harmonic=0), dims=['lon_v'])})\n",
    "tpxo9 = tpxo9.assign_coords({'lat_v': xr.DataArray(tpxo9['lat_v'].isel(harmonic=0), dims=['lat_v'])})"
   ]
  },
  {
   "cell_type": "markdown",
   "metadata": {},
   "source": [
    "harmonics needs its own data array:"
   ]
  },
  {
   "cell_type": "code",
   "execution_count": 9,
   "metadata": {},
   "outputs": [],
   "source": [
    "tpxo9['harmonic'] = xr.DataArray(data=harmonics, dims=['harmonic'])"
   ]
  },
  {
   "cell_type": "markdown",
   "metadata": {},
   "source": [
    "Dimensions (nx,ny) are not giving information on the data point locations, renamed to something more explicit:"
   ]
  },
  {
   "cell_type": "code",
   "execution_count": 10,
   "metadata": {},
   "outputs": [],
   "source": [
    "tpxo9['uRe'] = tpxo9['uRe'].rename({'nx': 'lon_u', 'ny': 'lat_u'})\n",
    "tpxo9['uIm'] = tpxo9['uIm'].rename({'nx': 'lon_u', 'ny': 'lat_u'})\n",
    "\n",
    "tpxo9['vRe'] = tpxo9['vRe'].rename({'nx': 'lon_v', 'ny': 'lat_v'})\n",
    "tpxo9['vIm'] = tpxo9['vIm'].rename({'nx': 'lon_v', 'ny': 'lat_v'})"
   ]
  },
  {
   "cell_type": "code",
   "execution_count": 11,
   "metadata": {},
   "outputs": [
    {
     "data": {
      "text/html": [
       "<pre>&lt;xarray.Dataset&gt;\n",
       "Dimensions:   (harmonic: 8, lat_u: 90, lat_v: 90, lon_u: 180, lon_v: 180)\n",
       "Coordinates:\n",
       "  * lat_v     (lat_v) float64 -89.03 -87.03 -85.03 -83.03 ... 84.97 86.97 88.97\n",
       "  * lon_v     (lon_v) float64 1.017 3.017 5.017 7.017 ... 355.0 357.0 359.0\n",
       "  * lat_u     (lat_u) float64 -89.02 -87.02 -85.02 -83.02 ... 84.98 86.98 88.98\n",
       "  * lon_u     (lon_u) float64 1.0 3.0 5.0 7.0 9.0 ... 353.0 355.0 357.0 359.0\n",
       "  * harmonic  (harmonic) &lt;U2 &#x27;m2&#x27; &#x27;s2&#x27; &#x27;n2&#x27; &#x27;k2&#x27; &#x27;k1&#x27; &#x27;o1&#x27; &#x27;p1&#x27; &#x27;q1&#x27;\n",
       "Data variables:\n",
       "    con       (harmonic) |S4 b&#x27;m2  &#x27; b&#x27;s2  &#x27; b&#x27;n2  &#x27; ... b&#x27;o1  &#x27; b&#x27;p1  &#x27; b&#x27;q1  &#x27;\n",
       "    uRe       (harmonic, lon_u, lat_u) int32 dask.array&lt;chunksize=(1, 180, 90), meta=np.ndarray&gt;\n",
       "    uIm       (harmonic, lon_u, lat_u) int32 dask.array&lt;chunksize=(1, 180, 90), meta=np.ndarray&gt;\n",
       "    vRe       (harmonic, lon_v, lat_v) int32 dask.array&lt;chunksize=(1, 180, 90), meta=np.ndarray&gt;\n",
       "    vIm       (harmonic, lon_v, lat_v) int32 dask.array&lt;chunksize=(1, 180, 90), meta=np.ndarray&gt;</pre>"
      ],
      "text/plain": [
       "<xarray.Dataset>\n",
       "Dimensions:   (harmonic: 8, lat_u: 90, lat_v: 90, lon_u: 180, lon_v: 180)\n",
       "Coordinates:\n",
       "  * lat_v     (lat_v) float64 -89.03 -87.03 -85.03 -83.03 ... 84.97 86.97 88.97\n",
       "  * lon_v     (lon_v) float64 1.017 3.017 5.017 7.017 ... 355.0 357.0 359.0\n",
       "  * lat_u     (lat_u) float64 -89.02 -87.02 -85.02 -83.02 ... 84.98 86.98 88.98\n",
       "  * lon_u     (lon_u) float64 1.0 3.0 5.0 7.0 9.0 ... 353.0 355.0 357.0 359.0\n",
       "  * harmonic  (harmonic) <U2 'm2' 's2' 'n2' 'k2' 'k1' 'o1' 'p1' 'q1'\n",
       "Data variables:\n",
       "    con       (harmonic) |S4 b'm2  ' b's2  ' b'n2  ' ... b'o1  ' b'p1  ' b'q1  '\n",
       "    uRe       (harmonic, lon_u, lat_u) int32 dask.array<chunksize=(1, 180, 90), meta=np.ndarray>\n",
       "    uIm       (harmonic, lon_u, lat_u) int32 dask.array<chunksize=(1, 180, 90), meta=np.ndarray>\n",
       "    vRe       (harmonic, lon_v, lat_v) int32 dask.array<chunksize=(1, 180, 90), meta=np.ndarray>\n",
       "    vIm       (harmonic, lon_v, lat_v) int32 dask.array<chunksize=(1, 180, 90), meta=np.ndarray>"
      ]
     },
     "execution_count": 11,
     "metadata": {},
     "output_type": "execute_result"
    }
   ],
   "source": [
    "tpxo9"
   ]
  },
  {
   "cell_type": "markdown",
   "metadata": {},
   "source": [
    "Merge with the grid file (same considerations apply):"
   ]
  },
  {
   "cell_type": "code",
   "execution_count": 12,
   "metadata": {},
   "outputs": [],
   "source": [
    "tpxo9_grid = xr.open_dataset(tpxo_gridfile)\n",
    "tpxo9_grid = tpxo9_grid.assign_coords({'lon_u': xr.DataArray(tpxo9_grid['lon_u'], dims=['lon_u']),\n",
    "                                       'lat_u': xr.DataArray(tpxo9_grid['lat_u'], dims=['lat_u']),\n",
    "                                       'lon_v': xr.DataArray(tpxo9_grid['lon_v'], dims=['lon_v']),\n",
    "                                       'lat_v': xr.DataArray(tpxo9_grid['lat_v'], dims=['lat_v']),\n",
    "                                       'lon_z': xr.DataArray(tpxo9_grid['lon_z'], dims=['lon_z']),\n",
    "                                       'lat_z': xr.DataArray(tpxo9_grid['lat_z'], dims=['lat_z'])})\n",
    "\n",
    "tpxo9_grid['hz'] = tpxo9_grid['hz'].rename({'nx': 'lon_z', 'ny': 'lat_z'})\n",
    "tpxo9_grid['hu'] = tpxo9_grid['hu'].rename({'nx': 'lon_u', 'ny': 'lat_u'})\n",
    "tpxo9_grid['hv'] = tpxo9_grid['hv'].rename({'nx': 'lon_v', 'ny': 'lat_v'})"
   ]
  },
  {
   "cell_type": "code",
   "execution_count": 13,
   "metadata": {},
   "outputs": [
    {
     "data": {
      "text/html": [
       "<pre>&lt;xarray.Dataset&gt;\n",
       "Dimensions:  (lat_u: 90, lat_v: 90, lat_z: 90, lon_u: 180, lon_v: 180, lon_z: 180)\n",
       "Coordinates:\n",
       "  * lat_v    (lat_v) float64 -89.03 -87.03 -85.03 -83.03 ... 84.97 86.97 88.97\n",
       "  * lon_v    (lon_v) float64 1.017 3.017 5.017 7.017 ... 353.0 355.0 357.0 359.0\n",
       "  * lat_u    (lat_u) float64 -89.02 -87.02 -85.02 -83.02 ... 84.98 86.98 88.98\n",
       "  * lon_u    (lon_u) float64 1.0 3.0 5.0 7.0 9.0 ... 353.0 355.0 357.0 359.0\n",
       "  * lat_z    (lat_z) float64 -89.02 -87.02 -85.02 -83.02 ... 84.98 86.98 88.98\n",
       "  * lon_z    (lon_z) float64 1.017 3.017 5.017 7.017 ... 353.0 355.0 357.0 359.0\n",
       "Data variables:\n",
       "    hz       (lon_z, lat_z) float32 ...\n",
       "    hu       (lon_u, lat_u) float32 ...\n",
       "    hv       (lon_v, lat_v) float32 ...</pre>"
      ],
      "text/plain": [
       "<xarray.Dataset>\n",
       "Dimensions:  (lat_u: 90, lat_v: 90, lat_z: 90, lon_u: 180, lon_v: 180, lon_z: 180)\n",
       "Coordinates:\n",
       "  * lat_v    (lat_v) float64 -89.03 -87.03 -85.03 -83.03 ... 84.97 86.97 88.97\n",
       "  * lon_v    (lon_v) float64 1.017 3.017 5.017 7.017 ... 353.0 355.0 357.0 359.0\n",
       "  * lat_u    (lat_u) float64 -89.02 -87.02 -85.02 -83.02 ... 84.98 86.98 88.98\n",
       "  * lon_u    (lon_u) float64 1.0 3.0 5.0 7.0 9.0 ... 353.0 355.0 357.0 359.0\n",
       "  * lat_z    (lat_z) float64 -89.02 -87.02 -85.02 -83.02 ... 84.98 86.98 88.98\n",
       "  * lon_z    (lon_z) float64 1.017 3.017 5.017 7.017 ... 353.0 355.0 357.0 359.0\n",
       "Data variables:\n",
       "    hz       (lon_z, lat_z) float32 ...\n",
       "    hu       (lon_u, lat_u) float32 ...\n",
       "    hv       (lon_v, lat_v) float32 ..."
      ]
     },
     "execution_count": 13,
     "metadata": {},
     "output_type": "execute_result"
    }
   ],
   "source": [
    "tpxo9_grid"
   ]
  },
  {
   "cell_type": "code",
   "execution_count": 14,
   "metadata": {},
   "outputs": [],
   "source": [
    "tpxo9_merged = xr.merge([tpxo9, tpxo9_grid])"
   ]
  },
  {
   "cell_type": "code",
   "execution_count": 15,
   "metadata": {},
   "outputs": [
    {
     "data": {
      "text/html": [
       "<pre>&lt;xarray.Dataset&gt;\n",
       "Dimensions:   (harmonic: 8, lat_u: 90, lat_v: 90, lat_z: 90, lon_u: 180, lon_v: 180, lon_z: 180)\n",
       "Coordinates:\n",
       "  * lat_v     (lat_v) float64 -89.03 -87.03 -85.03 -83.03 ... 84.97 86.97 88.97\n",
       "  * lon_v     (lon_v) float64 1.017 3.017 5.017 7.017 ... 355.0 357.0 359.0\n",
       "  * lat_u     (lat_u) float64 -89.02 -87.02 -85.02 -83.02 ... 84.98 86.98 88.98\n",
       "  * lon_u     (lon_u) float64 1.0 3.0 5.0 7.0 9.0 ... 353.0 355.0 357.0 359.0\n",
       "  * harmonic  (harmonic) &lt;U2 &#x27;m2&#x27; &#x27;s2&#x27; &#x27;n2&#x27; &#x27;k2&#x27; &#x27;k1&#x27; &#x27;o1&#x27; &#x27;p1&#x27; &#x27;q1&#x27;\n",
       "  * lat_z     (lat_z) float64 -89.02 -87.02 -85.02 -83.02 ... 84.98 86.98 88.98\n",
       "  * lon_z     (lon_z) float64 1.017 3.017 5.017 7.017 ... 355.0 357.0 359.0\n",
       "Data variables:\n",
       "    con       (harmonic) |S4 b&#x27;m2  &#x27; b&#x27;s2  &#x27; b&#x27;n2  &#x27; ... b&#x27;o1  &#x27; b&#x27;p1  &#x27; b&#x27;q1  &#x27;\n",
       "    uRe       (harmonic, lon_u, lat_u) int32 dask.array&lt;chunksize=(1, 180, 90), meta=np.ndarray&gt;\n",
       "    uIm       (harmonic, lon_u, lat_u) int32 dask.array&lt;chunksize=(1, 180, 90), meta=np.ndarray&gt;\n",
       "    vRe       (harmonic, lon_v, lat_v) int32 dask.array&lt;chunksize=(1, 180, 90), meta=np.ndarray&gt;\n",
       "    vIm       (harmonic, lon_v, lat_v) int32 dask.array&lt;chunksize=(1, 180, 90), meta=np.ndarray&gt;\n",
       "    hz        (lon_z, lat_z) float32 ...\n",
       "    hu        (lon_u, lat_u) float32 ...\n",
       "    hv        (lon_v, lat_v) float32 ...</pre>"
      ],
      "text/plain": [
       "<xarray.Dataset>\n",
       "Dimensions:   (harmonic: 8, lat_u: 90, lat_v: 90, lat_z: 90, lon_u: 180, lon_v: 180, lon_z: 180)\n",
       "Coordinates:\n",
       "  * lat_v     (lat_v) float64 -89.03 -87.03 -85.03 -83.03 ... 84.97 86.97 88.97\n",
       "  * lon_v     (lon_v) float64 1.017 3.017 5.017 7.017 ... 355.0 357.0 359.0\n",
       "  * lat_u     (lat_u) float64 -89.02 -87.02 -85.02 -83.02 ... 84.98 86.98 88.98\n",
       "  * lon_u     (lon_u) float64 1.0 3.0 5.0 7.0 9.0 ... 353.0 355.0 357.0 359.0\n",
       "  * harmonic  (harmonic) <U2 'm2' 's2' 'n2' 'k2' 'k1' 'o1' 'p1' 'q1'\n",
       "  * lat_z     (lat_z) float64 -89.02 -87.02 -85.02 -83.02 ... 84.98 86.98 88.98\n",
       "  * lon_z     (lon_z) float64 1.017 3.017 5.017 7.017 ... 355.0 357.0 359.0\n",
       "Data variables:\n",
       "    con       (harmonic) |S4 b'm2  ' b's2  ' b'n2  ' ... b'o1  ' b'p1  ' b'q1  '\n",
       "    uRe       (harmonic, lon_u, lat_u) int32 dask.array<chunksize=(1, 180, 90), meta=np.ndarray>\n",
       "    uIm       (harmonic, lon_u, lat_u) int32 dask.array<chunksize=(1, 180, 90), meta=np.ndarray>\n",
       "    vRe       (harmonic, lon_v, lat_v) int32 dask.array<chunksize=(1, 180, 90), meta=np.ndarray>\n",
       "    vIm       (harmonic, lon_v, lat_v) int32 dask.array<chunksize=(1, 180, 90), meta=np.ndarray>\n",
       "    hz        (lon_z, lat_z) float32 ...\n",
       "    hu        (lon_u, lat_u) float32 ...\n",
       "    hv        (lon_v, lat_v) float32 ..."
      ]
     },
     "execution_count": 15,
     "metadata": {},
     "output_type": "execute_result"
    }
   ],
   "source": [
    "tpxo9_merged"
   ]
  },
  {
   "cell_type": "markdown",
   "metadata": {},
   "source": [
    "The TPXO grid follows a C-grid staggering with south-west origin.\n",
    "With that knowledge, we can create a xgcm grid object. Notice the order of U,V and Z (center) points:"
   ]
  },
  {
   "cell_type": "code",
   "execution_count": 16,
   "metadata": {},
   "outputs": [],
   "source": [
    "tpxogrid = Grid(tpxo9_merged, coords={'X': {'center': 'lon_z', 'left': 'lon_u'},\n",
    "                                      'Y': {'center': 'lat_z', 'left': 'lat_v'}},\n",
    "                                      periodic=['X'])"
   ]
  },
  {
   "cell_type": "code",
   "execution_count": 17,
   "metadata": {},
   "outputs": [
    {
     "data": {
      "text/plain": [
       "<xgcm.Grid>\n",
       "X Axis (periodic):\n",
       "  * center   lon_z --> left\n",
       "  * left     lon_u --> center\n",
       "Y Axis (not periodic):\n",
       "  * center   lat_z --> left\n",
       "  * left     lat_v --> center"
      ]
     },
     "execution_count": 17,
     "metadata": {},
     "output_type": "execute_result"
    }
   ],
   "source": [
    "tpxogrid"
   ]
  },
  {
   "cell_type": "markdown",
   "metadata": {},
   "source": [
    "Now let's get rid of the redondant dimensions:"
   ]
  },
  {
   "cell_type": "code",
   "execution_count": 18,
   "metadata": {},
   "outputs": [],
   "source": [
    "tpxo9_merged['uRe'] = tpxo9_merged['uRe'].rename({'lat_u': 'lat_z'})\n",
    "tpxo9_merged['uIm'] = tpxo9_merged['uIm'].rename({'lat_u': 'lat_z'})\n",
    "tpxo9_merged['hu']  = tpxo9_merged['hu'].rename({'lat_u': 'lat_z'})\n",
    "\n",
    "tpxo9_merged['vRe'] = tpxo9_merged['vRe'].rename({'lon_v': 'lon_z'})\n",
    "tpxo9_merged['vIm'] = tpxo9_merged['vIm'].rename({'lon_v': 'lon_z'})\n",
    "tpxo9_merged['hv']  = tpxo9_merged['hv'].rename({'lon_v': 'lon_z'})"
   ]
  },
  {
   "cell_type": "markdown",
   "metadata": {},
   "source": [
    "## Computing the tidal velocities amplitude:"
   ]
  },
  {
   "cell_type": "markdown",
   "metadata": {},
   "source": [
    "Tidal transports (in the sense of $h \\times u$, where $h$ is the total depth and $u$ the tidal velocity) are given in complex form $uRe + j \\times uIm$. We obtain the squared amplitude using $U^{2} = uRe^{2} + uIm^{2}$\n",
    "\n",
    "We also convert units for $uRe$ and $uIm$ from $cm^{2}.s^{-1}$ to $m^{2}.s^{-1}$ and since we're working with squared values, the conversion factor is then $10^{-8}$.\n",
    "\n",
    "Also note that TPXO provides transports encoded as integer!!! Hence we need to convert to double precision otherwise the arrays are meaningless."
   ]
  },
  {
   "cell_type": "code",
   "execution_count": 19,
   "metadata": {},
   "outputs": [],
   "source": [
    "tpxo9_merged['U2'] =  1.0e-8 * ((tpxo9_merged['uRe'].astype('f8') * tpxo9_merged['uRe'].astype('f8')) +\n",
    "                                (tpxo9_merged['uIm'].astype('f8') * tpxo9_merged['uIm'].astype('f8')))\n",
    "\n",
    "tpxo9_merged['V2'] =  1.0e-8 * ((tpxo9_merged['vRe'].astype('f8') * tpxo9_merged['vRe'].astype('f8')) +\n",
    "                                (tpxo9_merged['vIm'].astype('f8') * tpxo9_merged['vIm'].astype('f8')))"
   ]
  },
  {
   "cell_type": "markdown",
   "metadata": {},
   "source": [
    "Transpose and mask land values:"
   ]
  },
  {
   "cell_type": "code",
   "execution_count": 20,
   "metadata": {},
   "outputs": [],
   "source": [
    "tpxo9_merged['U2'] = tpxo9_merged['U2'].where(tpxo9_merged['U2'] !=0).transpose(*('harmonic', 'lat_z', 'lon_u'))\n",
    "tpxo9_merged['V2'] = tpxo9_merged['V2'].where(tpxo9_merged['V2'] !=0).transpose(*('harmonic', 'lat_v', 'lon_z'))"
   ]
  },
  {
   "cell_type": "code",
   "execution_count": 21,
   "metadata": {},
   "outputs": [],
   "source": [
    "tpxo9_merged['hu'] = tpxo9_merged['hu'].where(tpxo9_merged['hu']).transpose(*('lat_z', 'lon_u'))\n",
    "tpxo9_merged['hv'] = tpxo9_merged['hv'].where(tpxo9_merged['hv']).transpose(*('lat_v', 'lon_z'))"
   ]
  },
  {
   "cell_type": "markdown",
   "metadata": {},
   "source": [
    "Get the corresponding velocities squared, by dividing by the square of ocean depth at U and V points:"
   ]
  },
  {
   "cell_type": "code",
   "execution_count": 22,
   "metadata": {},
   "outputs": [],
   "source": [
    "tpxo9_merged['u2'] = tpxo9_merged['U2'] / (tpxo9_merged['hu'] * tpxo9_merged['hu'])\n",
    "\n",
    "tpxo9_merged['v2'] = tpxo9_merged['V2'] / (tpxo9_merged['hv'] * tpxo9_merged['hv'])"
   ]
  },
  {
   "cell_type": "markdown",
   "metadata": {},
   "source": [
    "Now we sum the two components on the center of the cells:"
   ]
  },
  {
   "cell_type": "code",
   "execution_count": 23,
   "metadata": {},
   "outputs": [],
   "source": [
    "tpxo9_merged['umod2'] = tpxogrid.interp(tpxo9_merged['u2'], 'X', boundary='fill') + \\\n",
    "                        tpxogrid.interp(tpxo9_merged['v2'], 'Y', boundary='fill')"
   ]
  },
  {
   "cell_type": "markdown",
   "metadata": {},
   "source": [
    "Sum over all the harmonics:"
   ]
  },
  {
   "cell_type": "code",
   "execution_count": 24,
   "metadata": {},
   "outputs": [],
   "source": [
    "tpxo9_merged['tideamp2'] = tpxo9_merged['umod2'].sum(dim='harmonic')"
   ]
  },
  {
   "cell_type": "markdown",
   "metadata": {},
   "source": [
    "Take the square-root lazily:"
   ]
  },
  {
   "cell_type": "code",
   "execution_count": 25,
   "metadata": {},
   "outputs": [],
   "source": [
    "tpxo9_merged['tideamp'] = xr.apply_ufunc(np.sqrt, tpxo9_merged['tideamp2'],\n",
    "                                         dask='parallelized',\n",
    "                                         output_dtypes=[np.dtype('f8')])"
   ]
  },
  {
   "cell_type": "code",
   "execution_count": 26,
   "metadata": {},
   "outputs": [
    {
     "data": {
      "text/html": [
       "<pre>&lt;xarray.DataArray &#x27;tideamp&#x27; (lat_z: 90, lon_z: 180)&gt;\n",
       "array([[0.        , 0.        , 0.        , ..., 0.        , 0.        ,\n",
       "        0.        ],\n",
       "       [0.        , 0.        , 0.        , ..., 0.        , 0.        ,\n",
       "        0.        ],\n",
       "       [0.        , 0.        , 0.        , ..., 0.        , 0.        ,\n",
       "        0.        ],\n",
       "       ...,\n",
       "       [0.01078505, 0.01110222, 0.01143377, ..., 0.01059433, 0.0106319 ,\n",
       "        0.01067191],\n",
       "       [0.00617156, 0.00627251, 0.00635743, ..., 0.00587418, 0.00596512,\n",
       "        0.00606486],\n",
       "       [0.00459665, 0.00463532, 0.0046608 , ..., 0.00447227, 0.00451049,\n",
       "        0.00455272]])\n",
       "Coordinates:\n",
       "  * lat_z    (lat_z) float64 -89.02 -87.02 -85.02 -83.02 ... 84.98 86.98 88.98\n",
       "  * lon_z    (lon_z) float64 1.017 3.017 5.017 7.017 ... 353.0 355.0 357.0 359.0</pre>"
      ],
      "text/plain": [
       "<xarray.DataArray 'tideamp' (lat_z: 90, lon_z: 180)>\n",
       "array([[0.        , 0.        , 0.        , ..., 0.        , 0.        ,\n",
       "        0.        ],\n",
       "       [0.        , 0.        , 0.        , ..., 0.        , 0.        ,\n",
       "        0.        ],\n",
       "       [0.        , 0.        , 0.        , ..., 0.        , 0.        ,\n",
       "        0.        ],\n",
       "       ...,\n",
       "       [0.01078505, 0.01110222, 0.01143377, ..., 0.01059433, 0.0106319 ,\n",
       "        0.01067191],\n",
       "       [0.00617156, 0.00627251, 0.00635743, ..., 0.00587418, 0.00596512,\n",
       "        0.00606486],\n",
       "       [0.00459665, 0.00463532, 0.0046608 , ..., 0.00447227, 0.00451049,\n",
       "        0.00455272]])\n",
       "Coordinates:\n",
       "  * lat_z    (lat_z) float64 -89.02 -87.02 -85.02 -83.02 ... 84.98 86.98 88.98\n",
       "  * lon_z    (lon_z) float64 1.017 3.017 5.017 7.017 ... 353.0 355.0 357.0 359.0"
      ]
     },
     "execution_count": 26,
     "metadata": {},
     "output_type": "execute_result"
    }
   ],
   "source": [
    "tpxo9_merged['tideamp'].load()"
   ]
  },
  {
   "cell_type": "markdown",
   "metadata": {},
   "source": [
    "Mask the source array:"
   ]
  },
  {
   "cell_type": "code",
   "execution_count": 27,
   "metadata": {},
   "outputs": [],
   "source": [
    "tideamp_masked = tpxo9_merged['tideamp'].where(tpxo9_merged['tideamp'] != 0)"
   ]
  },
  {
   "cell_type": "code",
   "execution_count": 28,
   "metadata": {},
   "outputs": [
    {
     "data": {
      "text/plain": [
       "<matplotlib.collections.QuadMesh at 0x2b9bab58e100>"
      ]
     },
     "execution_count": 28,
     "metadata": {},
     "output_type": "execute_result"
    },
    {
     "data": {
      "image/png": "[encoded data removed]",
      "text/plain": [
       "<Figure size 720x432 with 2 Axes>"
      ]
     },
     "metadata": {
      "needs_background": "light"
     },
     "output_type": "display_data"
    }
   ],
   "source": [
    "plt.figure(figsize=[10,6])\n",
    "tideamp_masked.plot(vmin=0, vmax=1, cmap='viridis')"
   ]
  },
  {
   "cell_type": "markdown",
   "metadata": {},
   "source": [
    "## Regrid tidal amplitude to model grid:"
   ]
  },
  {
   "cell_type": "code",
   "execution_count": 29,
   "metadata": {},
   "outputs": [],
   "source": [
    "OM4grid = xr.open_dataset(OM4gridfile)"
   ]
  },
  {
   "cell_type": "markdown",
   "metadata": {},
   "source": [
    "rename dimensions (xESMF requirement):"
   ]
  },
  {
   "cell_type": "code",
   "execution_count": 30,
   "metadata": {},
   "outputs": [],
   "source": [
    "OM4grid = OM4grid.rename({'geolon': 'lon', 'geolat': 'lat'})"
   ]
  },
  {
   "cell_type": "code",
   "execution_count": 31,
   "metadata": {},
   "outputs": [],
   "source": [
    "tpxo9_merged = tpxo9_merged.rename({'lon_z': 'lon', 'lat_z': 'lat'})"
   ]
  },
  {
   "cell_type": "markdown",
   "metadata": {},
   "source": [
    "Create the regridder:\n",
    "\n",
    "NB: this takes about 30 minutes and requires a machine with at least 64GB or RAM. I ran it on PP/AN an101 in a separate script (create_weights_TPXO8_to_OM4p125.py)"
   ]
  },
  {
   "cell_type": "code",
   "execution_count": 32,
   "metadata": {},
   "outputs": [
    {
     "name": "stdout",
     "output_type": "stream",
     "text": [
      "Create weight file: bilinear_90x180_54x72_peri.nc\n",
      "CPU times: user 244 ms, sys: 42.6 ms, total: 286 ms\n",
      "Wall time: 388 ms\n"
     ]
    }
   ],
   "source": [
    "%%time\n",
    "\n",
    "regrid = xesmf.Regridder(tpxo9_merged, OM4grid, 'bilinear',\n",
    "                         periodic=True, reuse_weights=False)"
   ]
  },
  {
   "cell_type": "markdown",
   "metadata": {},
   "source": [
    "then regrid the tidal amplitude array:"
   ]
  },
  {
   "cell_type": "code",
   "execution_count": 33,
   "metadata": {},
   "outputs": [],
   "source": [
    "tideamp_regridded = regrid(tideamp_masked)"
   ]
  },
  {
   "cell_type": "code",
   "execution_count": 34,
   "metadata": {},
   "outputs": [
    {
     "data": {
      "text/html": [
       "<pre>&lt;xarray.DataArray &#x27;tideamp&#x27; (yh: 54, xh: 72)&gt;\n",
       "array([[       nan,        nan,        nan, ...,        nan,        nan,\n",
       "               nan],\n",
       "       [       nan,        nan,        nan, ...,        nan,        nan,\n",
       "               nan],\n",
       "       [       nan,        nan,        nan, ...,        nan,        nan,\n",
       "               nan],\n",
       "       ...,\n",
       "       [       nan,        nan,        nan, ...,        nan,        nan,\n",
       "               nan],\n",
       "       [       nan,        nan,        nan, ...,        nan,        nan,\n",
       "               nan],\n",
       "       [       nan,        nan, 0.05564674, ..., 0.12156163,        nan,\n",
       "               nan]])\n",
       "Coordinates:\n",
       "    lon      (yh, xh) float32 -297.43503 -292.4539 ... 59.383858 59.795654\n",
       "    lat      (yh, xh) float32 -79.205315 -79.18976 ... 67.1421 65.12044\n",
       "Dimensions without coordinates: yh, xh\n",
       "Attributes:\n",
       "    regrid_method:  bilinear</pre>"
      ],
      "text/plain": [
       "<xarray.DataArray 'tideamp' (yh: 54, xh: 72)>\n",
       "array([[       nan,        nan,        nan, ...,        nan,        nan,\n",
       "               nan],\n",
       "       [       nan,        nan,        nan, ...,        nan,        nan,\n",
       "               nan],\n",
       "       [       nan,        nan,        nan, ...,        nan,        nan,\n",
       "               nan],\n",
       "       ...,\n",
       "       [       nan,        nan,        nan, ...,        nan,        nan,\n",
       "               nan],\n",
       "       [       nan,        nan,        nan, ...,        nan,        nan,\n",
       "               nan],\n",
       "       [       nan,        nan, 0.05564674, ..., 0.12156163,        nan,\n",
       "               nan]])\n",
       "Coordinates:\n",
       "    lon      (yh, xh) float32 -297.43503 -292.4539 ... 59.383858 59.795654\n",
       "    lat      (yh, xh) float32 -79.205315 -79.18976 ... 67.1421 65.12044\n",
       "Dimensions without coordinates: yh, xh\n",
       "Attributes:\n",
       "    regrid_method:  bilinear"
      ]
     },
     "execution_count": 34,
     "metadata": {},
     "output_type": "execute_result"
    }
   ],
   "source": [
    "tideamp_regridded.load()"
   ]
  },
  {
   "cell_type": "code",
   "execution_count": 35,
   "metadata": {},
   "outputs": [
    {
     "data": {
      "text/plain": [
       "<matplotlib.collections.QuadMesh at 0x2b9babe70c40>"
      ]
     },
     "execution_count": 35,
     "metadata": {},
     "output_type": "execute_result"
    },
    {
     "data": {
      "image/png": "[encoded data removed]",
      "text/plain": [
       "<Figure size 720x432 with 2 Axes>"
      ]
     },
     "metadata": {
      "needs_background": "light"
     },
     "output_type": "display_data"
    }
   ],
   "source": [
    "plt.figure(figsize=[10,6])\n",
    "tideamp_regridded.plot(vmin=0, vmax=1,\n",
    "                       x='lon', y='lat',\n",
    "                       cmap='viridis')"
   ]
  },
  {
   "cell_type": "markdown",
   "metadata": {},
   "source": [
    "## Create the dataset"
   ]
  },
  {
   "cell_type": "code",
   "execution_count": 36,
   "metadata": {},
   "outputs": [],
   "source": [
    "out = xr.Dataset()\n",
    "out['tideamp'] = xr.DataArray(data=tideamp_regridded.values,\n",
    "                              dims=('ny', 'nx'),\n",
    "                              attrs = {'units': \"m.s-1\"})\n",
    "                              \n",
    "out['lon'] = xr.DataArray(data=tideamp_regridded.lon.values,\n",
    "                          dims=('ny', 'nx'),\n",
    "                          attrs = {'axis': 'X', 'units': 'degrees_east',\n",
    "                                   'long_name': 'Longitude',\n",
    "                                   'standard_name': 'longitude'})\n",
    "\n",
    "out['lat'] = xr.DataArray(data=tideamp_regridded.lat.values,\n",
    "                          dims=('ny', 'nx'),\n",
    "                          attrs = {'axis': 'Y', 'units': 'degrees_north',\n",
    "                                   'long_name': 'Latitude',\n",
    "                                   'standard_name': 'latitude'})\n",
    "\n",
    "encoding = {'lon': {'_FillValue': -1e+20},\n",
    "            'lat': {'_FillValue': -1e+20},\n",
    "            'tideamp': {'_FillValue': -1e+20,\n",
    "                        'missing_value': -1e+20}}\n",
    "\n",
    "out.to_netcdf('tidal_amplitude_TPXO9_OM5x5.v20200720.nc',\n",
    "              format='NETCDF3_64BIT', engine='netcdf4',\n",
    "              encoding=encoding)"
   ]
  },
  {
   "cell_type": "code",
   "execution_count": 38,
   "metadata": {},
   "outputs": [
    {
     "name": "stdout",
     "output_type": "stream",
     "text": [
      "bilinear_90x180_54x72_peri.nc: OK\n",
      "tidal_amplitude_TPXO9_OM5x5.v20200720.nc: OK\n"
     ]
    }
   ],
   "source": [
    "!md5sum -c checksums_TPXO9.txt"
   ]
  }
 ],
 "metadata": {
  "kernelspec": {
   "display_name": "Py3-repro2",
   "language": "python",
   "name": "repro"
  },
  "language_info": {
   "codemirror_mode": {
    "name": "ipython",
    "version": 3
   },
   "file_extension": ".py",
   "mimetype": "text/x-python",
   "name": "python",
   "nbconvert_exporter": "python",
   "pygments_lexer": "ipython3",
   "version": "3.8.4"
  }
 },
 "nbformat": 4,
 "nbformat_minor": 4
}